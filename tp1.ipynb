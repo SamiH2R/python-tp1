{
 "cells": [
  {
   "cell_type": "code",
   "execution_count": 11,
   "metadata": {},
   "outputs": [
    {
     "name": "stdin",
     "output_type": "stream",
     "text": [
      "Donnez le rayon 4\n",
      "Donnez la hauteur 8\n"
     ]
    },
    {
     "name": "stdout",
     "output_type": "stream",
     "text": [
      "V = 134.03733333333335\n"
     ]
    }
   ],
   "source": [
    "r = int(input('Donnez le rayon'))\n",
    "h = int(input('Donnez la hauteur'))\n",
    "pi = 3.1415\n",
    "print('v =',(pi*pow(r,2)*h)/3)"
   ]
  },
  {
   "cell_type": "code",
   "execution_count": 23,
   "metadata": {},
   "outputs": [
    {
     "name": "stdin",
     "output_type": "stream",
     "text": [
      "Entrer un entier 2\n"
     ]
    },
    {
     "name": "stdout",
     "output_type": "stream",
     "text": [
      "s = 9\n"
     ]
    }
   ],
   "source": [
    "n = int(input('Entrer un entier'))\n",
    "s = 0\n",
    "for i in range(1,n+1):\n",
    "     s = s + pow(i,3)\n",
    "print('s =',s)"
   ]
  },
  {
   "cell_type": "code",
   "execution_count": 24,
   "metadata": {},
   "outputs": [
    {
     "name": "stdin",
     "output_type": "stream",
     "text": [
      "Entrer un entier 2\n"
     ]
    },
    {
     "name": "stdout",
     "output_type": "stream",
     "text": [
      "e = 3\n"
     ]
    }
   ],
   "source": [
    "n = int(input('Entrer un entier'))\n",
    "e = 0\n",
    "for i in range(1,n+1):\n",
    "     e = e + i\n",
    "print('e =',e)"
   ]
  },
  {
   "cell_type": "code",
   "execution_count": 25,
   "metadata": {},
   "outputs": [
    {
     "name": "stdout",
     "output_type": "stream",
     "text": [
      "l = 300\n"
     ]
    }
   ],
   "source": [
    "c = ''\n",
    "l = 0\n",
    "for i in range(1,1000):\n",
    "    c = str(i)\n",
    "    l = l + c.count(\"1\")\n",
    "    c = ''\n",
    "print('l =', l)"
   ]
  },
  {
   "cell_type": "code",
   "execution_count": null,
   "metadata": {},
   "outputs": [],
   "source": []
  }
 ],
 "metadata": {
  "kernelspec": {
   "display_name": "Python 3",
   "language": "python",
   "name": "python3"
  },
  "language_info": {
   "codemirror_mode": {
    "name": "ipython",
    "version": 3
   },
   "file_extension": ".py",
   "mimetype": "text/x-python",
   "name": "python",
   "nbconvert_exporter": "python",
   "pygments_lexer": "ipython3",
   "version": "3.7.0"
  }
 },
 "nbformat": 4,
 "nbformat_minor": 2
}
